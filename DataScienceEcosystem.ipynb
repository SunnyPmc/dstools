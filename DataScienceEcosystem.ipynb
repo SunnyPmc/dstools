{
 "cells": [
  {
   "cell_type": "markdown",
   "id": "3c9c1b7f-003a-4884-9f88-5fd7678105dd",
   "metadata": {},
   "source": [
    "# Data Science Tools and Ecosystem"
   ]
  },
  {
   "cell_type": "markdown",
   "id": "5b697d90-682f-4e44-999d-75d95f12562f",
   "metadata": {},
   "source": [
    "In this notebook, Data Science Tools and Ecosystem are summarized."
   ]
  },
  {
   "cell_type": "markdown",
   "id": "20f2a34f-ae02-4baf-92d3-470373ff0e4f",
   "metadata": {},
   "source": [
    "Some of the popular languages that Data Scientists use are:"
   ]
  },
  {
   "cell_type": "markdown",
   "id": "cdacb799-b7d6-4014-be06-968c5654152b",
   "metadata": {
    "tags": []
   },
   "source": [
    "1. Python\n",
    "2. R\n",
    "3. SQL\n",
    "4. Julia\n",
    "5. Java\n",
    "6. Scala\n",
    "7. MATLAB\n",
    "8. SAS\n"
   ]
  },
  {
   "cell_type": "markdown",
   "id": "6ac22bba-23ed-4103-94c4-8846a0e0040a",
   "metadata": {},
   "source": [
    "Some of the commonly used libraries used by Data Scientists include:"
   ]
  },
  {
   "cell_type": "markdown",
   "id": "458f3880-6351-4f0b-a386-17cf439a61f1",
   "metadata": {
    "tags": []
   },
   "source": [
    "1. NumPy\n",
    "2. Pandas\n",
    "3. Matplotlib\n",
    "4. Seaborn\n",
    "5. Scikit-learn\n",
    "6. TensorFlow\n",
    "7. Keras\n",
    "8. PyTorch\n"
   ]
  },
  {
   "cell_type": "markdown",
   "id": "771c56b3-ca1c-4c88-9a20-2c5ea3a6ff1a",
   "metadata": {
    "tags": []
   },
   "source": [
    "| Data Science Tools             |\n",
    "|---------------------------------|\n",
    "| Jupyter Notebook                |\n",
    "| RStudio                         |\n",
    "| Apache Zeppelin                 |\n"
   ]
  },
  {
   "cell_type": "markdown",
   "id": "99c7caaf-2423-480b-8e51-bf9e5593959d",
   "metadata": {},
   "source": [
    "### Below are a few examples of evaluating arithmetic expressions in Python.\n",
    "\n",
    "| Data Science Tools             |\n",
    "|---------------------------------|\n",
    "| Jupyter Notebook                |\n",
    "| RStudio                         |\n",
    "| Apache Zeppelin                 |\n"
   ]
  },
  {
   "cell_type": "markdown",
   "id": "fd4c0c34-9a33-4815-ab6d-aa3eabf731c6",
   "metadata": {
    "jupyter": {
     "source_hidden": true
    },
    "tags": []
   },
   "source": [
    "### Below are a few examples of evaluating arithmetic expressions in Python.\n",
    "\n",
    "| Data Science Tools             |\n",
    "|---------------------------------|\n",
    "| Jupyter Notebook                |\n",
    "| RStudio                         |\n",
    "| Apache Zeppelin                 |\n"
   ]
  },
  {
   "cell_type": "code",
   "execution_count": 6,
   "id": "93e6a81b-70ab-40d1-b936-75e60ee67a3d",
   "metadata": {
    "tags": []
   },
   "outputs": [
    {
     "data": {
      "text/plain": [
       "17"
      ]
     },
     "execution_count": 6,
     "metadata": {},
     "output_type": "execute_result"
    }
   ],
   "source": [
    "# This is a simple arithmetic expression to multiply then add integers.\n",
    "(3 * 4) + 5\n"
   ]
  },
  {
   "cell_type": "code",
   "execution_count": 7,
   "id": "386f5b9a-232f-4d26-8cb3-c63c1798f084",
   "metadata": {
    "tags": []
   },
   "outputs": [
    {
     "data": {
      "text/plain": [
       "3.3333333333333335"
      ]
     },
     "execution_count": 7,
     "metadata": {},
     "output_type": "execute_result"
    }
   ],
   "source": [
    "# This will convert 200 minutes to hours by dividing by 60.\n",
    "200 / 60\n"
   ]
  },
  {
   "cell_type": "markdown",
   "id": "38827cad-6b92-4b98-8e4d-9bd2bca9eb01",
   "metadata": {},
   "source": [
    "**Objectives:**\n",
    "\n",
    "- List popular languages for Data Science.\n",
    "- Identify commonly used libraries in data science.\n",
    "- Create and format tables in Markdown.\n",
    "- Evaluate arithmetic expressions in Python.\n",
    "- Convert time units from minutes to hours.\n"
   ]
  },
  {
   "cell_type": "markdown",
   "id": "e74b99cb-2d0c-4724-8295-b478d006767c",
   "metadata": {},
   "source": [
    "## Author\n",
    "\n",
    "Sunny Kumar Sah\n"
   ]
  },
  {
   "cell_type": "code",
   "execution_count": null,
   "id": "3344f163-2554-431e-b653-d2527024238c",
   "metadata": {},
   "outputs": [],
   "source": []
  }
 ],
 "metadata": {
  "kernelspec": {
   "display_name": "Python",
   "language": "python",
   "name": "conda-env-python-py"
  },
  "language_info": {
   "codemirror_mode": {
    "name": "ipython",
    "version": 3
   },
   "file_extension": ".py",
   "mimetype": "text/x-python",
   "name": "python",
   "nbconvert_exporter": "python",
   "pygments_lexer": "ipython3",
   "version": "3.7.12"
  }
 },
 "nbformat": 4,
 "nbformat_minor": 5
}
